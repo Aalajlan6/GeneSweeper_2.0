{
 "cells": [
  {
   "cell_type": "markdown",
   "id": "99fcc207-715f-4841-9aab-ae83592eee35",
   "metadata": {},
   "source": [
    "# File gathering testing"
   ]
  },
  {
   "cell_type": "code",
   "execution_count": 18,
   "id": "32b1ac8e-b4a5-43da-9c03-9006cff6db28",
   "metadata": {},
   "outputs": [],
   "source": [
    "import pandas as pd\n",
    "import os\n",
    "path = r'C:\\Users\\abdul\\Documents\\GitHub\\GeneSweeper_2.0\\CSV_files'\n",
    "extension = '.csv'\n",
    "files = [file for file in os.listdir(path) if file.endswith(extension)]"
   ]
  },
  {
   "cell_type": "code",
   "execution_count": 20,
   "id": "8534ed95-525a-4eaf-8ae0-03a63216880c",
   "metadata": {},
   "outputs": [
    {
     "name": "stdout",
     "output_type": "stream",
     "text": [
      "1.72 s ± 53.3 ms per loop (mean ± std. dev. of 7 runs, 1 loop each)\n"
     ]
    }
   ],
   "source": [
    "%%timeit\n",
    "dfs = []\n",
    "for file in files:\n",
    "    df = pd.read_csv(os.path.join(path, file), delimiter='\\t')\n",
    "    dfs.append(df)\n",
    "df = pd.concat(dfs, ignore_index=True)\n",
    "df"
   ]
  },
  {
   "cell_type": "markdown",
   "id": "1d13eb0d-7ab6-4d4c-8c2f-b065f59cb1bd",
   "metadata": {},
   "source": [
    "pip install polars"
   ]
  },
  {
   "cell_type": "code",
   "execution_count": 44,
   "id": "0422dcf7-033f-40b6-8e62-25662909eb13",
   "metadata": {},
   "outputs": [
    {
     "ename": "ComputeError",
     "evalue": "found more fields than defined in 'Schema'\n\nConsider setting 'truncate_ragged_lines=True'.",
     "output_type": "error",
     "traceback": [
      "\u001b[1;31m---------------------------------------------------------------------------\u001b[0m",
      "\u001b[1;31mComputeError\u001b[0m                              Traceback (most recent call last)",
      "Cell \u001b[1;32mIn[44], line 3\u001b[0m\n\u001b[0;32m      1\u001b[0m \u001b[38;5;28;01mimport\u001b[39;00m \u001b[38;5;21;01mpolars\u001b[39;00m \u001b[38;5;28;01mas\u001b[39;00m \u001b[38;5;21;01mpl\u001b[39;00m\n\u001b[1;32m----> 3\u001b[0m df_pl \u001b[38;5;241m=\u001b[39m pl\u001b[38;5;241m.\u001b[39mread_csv(files[\u001b[38;5;241m0\u001b[39m], skip_rows\u001b[38;5;241m=\u001b[39m\u001b[38;5;241m1\u001b[39m)\n\u001b[0;32m      4\u001b[0m df_pl\n",
      "File \u001b[1;32m~\\anaconda3\\Lib\\site-packages\\polars\\_utils\\deprecation.py:135\u001b[0m, in \u001b[0;36mdeprecate_renamed_parameter.<locals>.decorate.<locals>.wrapper\u001b[1;34m(*args, **kwargs)\u001b[0m\n\u001b[0;32m    130\u001b[0m \u001b[38;5;129m@wraps\u001b[39m(function)\n\u001b[0;32m    131\u001b[0m \u001b[38;5;28;01mdef\u001b[39;00m \u001b[38;5;21mwrapper\u001b[39m(\u001b[38;5;241m*\u001b[39margs: P\u001b[38;5;241m.\u001b[39margs, \u001b[38;5;241m*\u001b[39m\u001b[38;5;241m*\u001b[39mkwargs: P\u001b[38;5;241m.\u001b[39mkwargs) \u001b[38;5;241m-\u001b[39m\u001b[38;5;241m>\u001b[39m T:\n\u001b[0;32m    132\u001b[0m     _rename_keyword_argument(\n\u001b[0;32m    133\u001b[0m         old_name, new_name, kwargs, function\u001b[38;5;241m.\u001b[39m\u001b[38;5;18m__name__\u001b[39m, version\n\u001b[0;32m    134\u001b[0m     )\n\u001b[1;32m--> 135\u001b[0m     \u001b[38;5;28;01mreturn\u001b[39;00m function(\u001b[38;5;241m*\u001b[39margs, \u001b[38;5;241m*\u001b[39m\u001b[38;5;241m*\u001b[39mkwargs)\n",
      "File \u001b[1;32m~\\anaconda3\\Lib\\site-packages\\polars\\_utils\\deprecation.py:135\u001b[0m, in \u001b[0;36mdeprecate_renamed_parameter.<locals>.decorate.<locals>.wrapper\u001b[1;34m(*args, **kwargs)\u001b[0m\n\u001b[0;32m    130\u001b[0m \u001b[38;5;129m@wraps\u001b[39m(function)\n\u001b[0;32m    131\u001b[0m \u001b[38;5;28;01mdef\u001b[39;00m \u001b[38;5;21mwrapper\u001b[39m(\u001b[38;5;241m*\u001b[39margs: P\u001b[38;5;241m.\u001b[39margs, \u001b[38;5;241m*\u001b[39m\u001b[38;5;241m*\u001b[39mkwargs: P\u001b[38;5;241m.\u001b[39mkwargs) \u001b[38;5;241m-\u001b[39m\u001b[38;5;241m>\u001b[39m T:\n\u001b[0;32m    132\u001b[0m     _rename_keyword_argument(\n\u001b[0;32m    133\u001b[0m         old_name, new_name, kwargs, function\u001b[38;5;241m.\u001b[39m\u001b[38;5;18m__name__\u001b[39m, version\n\u001b[0;32m    134\u001b[0m     )\n\u001b[1;32m--> 135\u001b[0m     \u001b[38;5;28;01mreturn\u001b[39;00m function(\u001b[38;5;241m*\u001b[39margs, \u001b[38;5;241m*\u001b[39m\u001b[38;5;241m*\u001b[39mkwargs)\n",
      "    \u001b[1;31m[... skipping similar frames: deprecate_renamed_parameter.<locals>.decorate.<locals>.wrapper at line 135 (1 times)]\u001b[0m\n",
      "File \u001b[1;32m~\\anaconda3\\Lib\\site-packages\\polars\\_utils\\deprecation.py:135\u001b[0m, in \u001b[0;36mdeprecate_renamed_parameter.<locals>.decorate.<locals>.wrapper\u001b[1;34m(*args, **kwargs)\u001b[0m\n\u001b[0;32m    130\u001b[0m \u001b[38;5;129m@wraps\u001b[39m(function)\n\u001b[0;32m    131\u001b[0m \u001b[38;5;28;01mdef\u001b[39;00m \u001b[38;5;21mwrapper\u001b[39m(\u001b[38;5;241m*\u001b[39margs: P\u001b[38;5;241m.\u001b[39margs, \u001b[38;5;241m*\u001b[39m\u001b[38;5;241m*\u001b[39mkwargs: P\u001b[38;5;241m.\u001b[39mkwargs) \u001b[38;5;241m-\u001b[39m\u001b[38;5;241m>\u001b[39m T:\n\u001b[0;32m    132\u001b[0m     _rename_keyword_argument(\n\u001b[0;32m    133\u001b[0m         old_name, new_name, kwargs, function\u001b[38;5;241m.\u001b[39m\u001b[38;5;18m__name__\u001b[39m, version\n\u001b[0;32m    134\u001b[0m     )\n\u001b[1;32m--> 135\u001b[0m     \u001b[38;5;28;01mreturn\u001b[39;00m function(\u001b[38;5;241m*\u001b[39margs, \u001b[38;5;241m*\u001b[39m\u001b[38;5;241m*\u001b[39mkwargs)\n",
      "File \u001b[1;32m~\\anaconda3\\Lib\\site-packages\\polars\\io\\csv\\functions.py:422\u001b[0m, in \u001b[0;36mread_csv\u001b[1;34m(source, has_header, columns, new_columns, separator, comment_prefix, quote_char, skip_rows, schema, schema_overrides, null_values, missing_utf8_is_empty_string, ignore_errors, try_parse_dates, n_threads, infer_schema_length, batch_size, n_rows, encoding, low_memory, rechunk, use_pyarrow, storage_options, skip_rows_after_header, row_index_name, row_index_offset, sample_size, eol_char, raise_if_empty, truncate_ragged_lines, decimal_comma, glob)\u001b[0m\n\u001b[0;32m    410\u001b[0m         schema_overrides \u001b[38;5;241m=\u001b[39m {\n\u001b[0;32m    411\u001b[0m             new_to_current\u001b[38;5;241m.\u001b[39mget(column_name, column_name): column_dtype\n\u001b[0;32m    412\u001b[0m             \u001b[38;5;28;01mfor\u001b[39;00m column_name, column_dtype \u001b[38;5;129;01min\u001b[39;00m schema_overrides\u001b[38;5;241m.\u001b[39mitems()\n\u001b[0;32m    413\u001b[0m         }\n\u001b[0;32m    415\u001b[0m \u001b[38;5;28;01mwith\u001b[39;00m prepare_file_arg(\n\u001b[0;32m    416\u001b[0m     source,\n\u001b[0;32m    417\u001b[0m     encoding\u001b[38;5;241m=\u001b[39mencoding,\n\u001b[1;32m   (...)\u001b[0m\n\u001b[0;32m    420\u001b[0m     storage_options\u001b[38;5;241m=\u001b[39mstorage_options,\n\u001b[0;32m    421\u001b[0m ) \u001b[38;5;28;01mas\u001b[39;00m data:\n\u001b[1;32m--> 422\u001b[0m     df \u001b[38;5;241m=\u001b[39m _read_csv_impl(\n\u001b[0;32m    423\u001b[0m         data,\n\u001b[0;32m    424\u001b[0m         has_header\u001b[38;5;241m=\u001b[39mhas_header,\n\u001b[0;32m    425\u001b[0m         columns\u001b[38;5;241m=\u001b[39mcolumns \u001b[38;5;28;01mif\u001b[39;00m columns \u001b[38;5;28;01melse\u001b[39;00m projection,\n\u001b[0;32m    426\u001b[0m         separator\u001b[38;5;241m=\u001b[39mseparator,\n\u001b[0;32m    427\u001b[0m         comment_prefix\u001b[38;5;241m=\u001b[39mcomment_prefix,\n\u001b[0;32m    428\u001b[0m         quote_char\u001b[38;5;241m=\u001b[39mquote_char,\n\u001b[0;32m    429\u001b[0m         skip_rows\u001b[38;5;241m=\u001b[39mskip_rows,\n\u001b[0;32m    430\u001b[0m         schema_overrides\u001b[38;5;241m=\u001b[39mschema_overrides,\n\u001b[0;32m    431\u001b[0m         schema\u001b[38;5;241m=\u001b[39mschema,\n\u001b[0;32m    432\u001b[0m         null_values\u001b[38;5;241m=\u001b[39mnull_values,\n\u001b[0;32m    433\u001b[0m         missing_utf8_is_empty_string\u001b[38;5;241m=\u001b[39mmissing_utf8_is_empty_string,\n\u001b[0;32m    434\u001b[0m         ignore_errors\u001b[38;5;241m=\u001b[39mignore_errors,\n\u001b[0;32m    435\u001b[0m         try_parse_dates\u001b[38;5;241m=\u001b[39mtry_parse_dates,\n\u001b[0;32m    436\u001b[0m         n_threads\u001b[38;5;241m=\u001b[39mn_threads,\n\u001b[0;32m    437\u001b[0m         infer_schema_length\u001b[38;5;241m=\u001b[39minfer_schema_length,\n\u001b[0;32m    438\u001b[0m         batch_size\u001b[38;5;241m=\u001b[39mbatch_size,\n\u001b[0;32m    439\u001b[0m         n_rows\u001b[38;5;241m=\u001b[39mn_rows,\n\u001b[0;32m    440\u001b[0m         encoding\u001b[38;5;241m=\u001b[39mencoding \u001b[38;5;28;01mif\u001b[39;00m encoding \u001b[38;5;241m==\u001b[39m \u001b[38;5;124m\"\u001b[39m\u001b[38;5;124mutf8-lossy\u001b[39m\u001b[38;5;124m\"\u001b[39m \u001b[38;5;28;01melse\u001b[39;00m \u001b[38;5;124m\"\u001b[39m\u001b[38;5;124mutf8\u001b[39m\u001b[38;5;124m\"\u001b[39m,\n\u001b[0;32m    441\u001b[0m         low_memory\u001b[38;5;241m=\u001b[39mlow_memory,\n\u001b[0;32m    442\u001b[0m         rechunk\u001b[38;5;241m=\u001b[39mrechunk,\n\u001b[0;32m    443\u001b[0m         skip_rows_after_header\u001b[38;5;241m=\u001b[39mskip_rows_after_header,\n\u001b[0;32m    444\u001b[0m         row_index_name\u001b[38;5;241m=\u001b[39mrow_index_name,\n\u001b[0;32m    445\u001b[0m         row_index_offset\u001b[38;5;241m=\u001b[39mrow_index_offset,\n\u001b[0;32m    446\u001b[0m         sample_size\u001b[38;5;241m=\u001b[39msample_size,\n\u001b[0;32m    447\u001b[0m         eol_char\u001b[38;5;241m=\u001b[39meol_char,\n\u001b[0;32m    448\u001b[0m         raise_if_empty\u001b[38;5;241m=\u001b[39mraise_if_empty,\n\u001b[0;32m    449\u001b[0m         truncate_ragged_lines\u001b[38;5;241m=\u001b[39mtruncate_ragged_lines,\n\u001b[0;32m    450\u001b[0m         decimal_comma\u001b[38;5;241m=\u001b[39mdecimal_comma,\n\u001b[0;32m    451\u001b[0m         glob\u001b[38;5;241m=\u001b[39mglob,\n\u001b[0;32m    452\u001b[0m     )\n\u001b[0;32m    454\u001b[0m \u001b[38;5;28;01mif\u001b[39;00m new_columns:\n\u001b[0;32m    455\u001b[0m     \u001b[38;5;28;01mreturn\u001b[39;00m _update_columns(df, new_columns)\n",
      "File \u001b[1;32m~\\anaconda3\\Lib\\site-packages\\polars\\io\\csv\\functions.py:568\u001b[0m, in \u001b[0;36m_read_csv_impl\u001b[1;34m(source, has_header, columns, separator, comment_prefix, quote_char, skip_rows, schema, schema_overrides, null_values, missing_utf8_is_empty_string, ignore_errors, try_parse_dates, n_threads, infer_schema_length, batch_size, n_rows, encoding, low_memory, rechunk, skip_rows_after_header, row_index_name, row_index_offset, sample_size, eol_char, raise_if_empty, truncate_ragged_lines, decimal_comma, glob)\u001b[0m\n\u001b[0;32m    564\u001b[0m         \u001b[38;5;28;01mraise\u001b[39;00m \u001b[38;5;167;01mValueError\u001b[39;00m(msg)\n\u001b[0;32m    566\u001b[0m projection, columns \u001b[38;5;241m=\u001b[39m parse_columns_arg(columns)\n\u001b[1;32m--> 568\u001b[0m pydf \u001b[38;5;241m=\u001b[39m PyDataFrame\u001b[38;5;241m.\u001b[39mread_csv(\n\u001b[0;32m    569\u001b[0m     source,\n\u001b[0;32m    570\u001b[0m     infer_schema_length,\n\u001b[0;32m    571\u001b[0m     batch_size,\n\u001b[0;32m    572\u001b[0m     has_header,\n\u001b[0;32m    573\u001b[0m     ignore_errors,\n\u001b[0;32m    574\u001b[0m     n_rows,\n\u001b[0;32m    575\u001b[0m     skip_rows,\n\u001b[0;32m    576\u001b[0m     projection,\n\u001b[0;32m    577\u001b[0m     separator,\n\u001b[0;32m    578\u001b[0m     rechunk,\n\u001b[0;32m    579\u001b[0m     columns,\n\u001b[0;32m    580\u001b[0m     encoding,\n\u001b[0;32m    581\u001b[0m     n_threads,\n\u001b[0;32m    582\u001b[0m     path,\n\u001b[0;32m    583\u001b[0m     dtype_list,\n\u001b[0;32m    584\u001b[0m     dtype_slice,\n\u001b[0;32m    585\u001b[0m     low_memory,\n\u001b[0;32m    586\u001b[0m     comment_prefix,\n\u001b[0;32m    587\u001b[0m     quote_char,\n\u001b[0;32m    588\u001b[0m     processed_null_values,\n\u001b[0;32m    589\u001b[0m     missing_utf8_is_empty_string,\n\u001b[0;32m    590\u001b[0m     try_parse_dates,\n\u001b[0;32m    591\u001b[0m     skip_rows_after_header,\n\u001b[0;32m    592\u001b[0m     parse_row_index_args(row_index_name, row_index_offset),\n\u001b[0;32m    593\u001b[0m     sample_size\u001b[38;5;241m=\u001b[39msample_size,\n\u001b[0;32m    594\u001b[0m     eol_char\u001b[38;5;241m=\u001b[39meol_char,\n\u001b[0;32m    595\u001b[0m     raise_if_empty\u001b[38;5;241m=\u001b[39mraise_if_empty,\n\u001b[0;32m    596\u001b[0m     truncate_ragged_lines\u001b[38;5;241m=\u001b[39mtruncate_ragged_lines,\n\u001b[0;32m    597\u001b[0m     decimal_comma\u001b[38;5;241m=\u001b[39mdecimal_comma,\n\u001b[0;32m    598\u001b[0m     schema\u001b[38;5;241m=\u001b[39mschema,\n\u001b[0;32m    599\u001b[0m )\n\u001b[0;32m    600\u001b[0m \u001b[38;5;28;01mreturn\u001b[39;00m wrap_df(pydf)\n",
      "\u001b[1;31mComputeError\u001b[0m: found more fields than defined in 'Schema'\n\nConsider setting 'truncate_ragged_lines=True'."
     ]
    }
   ],
   "source": [
    "import polars as pl\n",
    "\n",
    "df_pl = pl.read_csv(files[0], skip_rows=1)\n",
    "df_pl"
   ]
  }
 ],
 "metadata": {
  "kernelspec": {
   "display_name": "Python 3 (ipykernel)",
   "language": "python",
   "name": "python3"
  },
  "language_info": {
   "codemirror_mode": {
    "name": "ipython",
    "version": 3
   },
   "file_extension": ".py",
   "mimetype": "text/x-python",
   "name": "python",
   "nbconvert_exporter": "python",
   "pygments_lexer": "ipython3",
   "version": "3.11.7"
  }
 },
 "nbformat": 4,
 "nbformat_minor": 5
}
