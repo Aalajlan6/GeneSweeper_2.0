{
 "cells": [
  {
   "cell_type": "markdown",
   "id": "99fcc207-715f-4841-9aab-ae83592eee35",
   "metadata": {},
   "source": [
    "# File gathering testing"
   ]
  },
  {
   "cell_type": "code",
   "execution_count": 18,
   "id": "32b1ac8e-b4a5-43da-9c03-9006cff6db28",
   "metadata": {},
   "outputs": [],
   "source": [
    "import pandas as pd\n",
    "import os\n",
    "path = r'C:\\Users\\abdul\\Documents\\GitHub\\GeneSweeper_2.0\\CSV_files'\n",
    "extension = '.csv'\n",
    "files = [file for file in os.listdir(path) if file.endswith(extension)]"
   ]
  },
  {
   "cell_type": "code",
   "execution_count": 46,
   "id": "8534ed95-525a-4eaf-8ae0-03a63216880c",
   "metadata": {},
   "outputs": [],
   "source": [
    "dfs = []\n",
    "for file in files:\n",
    "    df = pd.read_csv(os.path.join(path, file), delimiter='\\t')\n",
    "    dfs.append(df)\n",
    "df = pd.concat(dfs, ignore_index=True)"
   ]
  }
 ],
 "metadata": {
  "kernelspec": {
   "display_name": "Python 3 (ipykernel)",
   "language": "python",
   "name": "python3"
  },
  "language_info": {
   "codemirror_mode": {
    "name": "ipython",
    "version": 3
   },
   "file_extension": ".py",
   "mimetype": "text/x-python",
   "name": "python",
   "nbconvert_exporter": "python",
   "pygments_lexer": "ipython3",
   "version": "3.11.7"
  }
 },
 "nbformat": 4,
 "nbformat_minor": 5
}
