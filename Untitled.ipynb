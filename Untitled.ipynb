{
 "cells": [
  {
   "cell_type": "code",
   "execution_count": 239,
   "id": "781403f9-b809-4b4a-b892-905a33e829d1",
   "metadata": {},
   "outputs": [
    {
     "name": "stdout",
     "output_type": "stream",
     "text": [
      "File 'CSV_files' does not exist.\n"
     ]
    }
   ],
   "source": [
    "import os\n",
    "\n",
    "# Get the directory of the current script (program.py)\n",
    "script_dir = os.path.dirname('__file__')\n",
    "\n",
    "# Define the relative path to your CSV file\n",
    "csv_file_path = os.path.join(script_dir, 'CSV_files')\n",
    "\n",
    "# Check if the file exists\n",
    "if os.path.exists(csv_file_path):\n",
    "    # Load or process the CSV file here\n",
    "    print(f\"Found CSV file at: {csv_file_path}\")\n",
    "    # Example: Load CSV file using pandas\n",
    "    import pandas as pd\n",
    "    df = pd.read_csv(csv_file_path)\n",
    "    print(df.head())  # Example: Display first few rows of the DataFrame\n",
    "else:\n",
    "    print(f\"File '{csv_file_path}' does not exist.\")"
   ]
  },
  {
   "cell_type": "code",
   "execution_count": 235,
   "id": "c5d6136c-61c9-4d64-a6ee-a6cb16bb8acb",
   "metadata": {},
   "outputs": [
    {
     "ename": "FileNotFoundError",
     "evalue": "[Errno 2] No such file or directory: 'CSV_files'",
     "output_type": "error",
     "traceback": [
      "\u001b[0;31m---------------------------------------------------------------------------\u001b[0m",
      "\u001b[0;31mFileNotFoundError\u001b[0m                         Traceback (most recent call last)",
      "Cell \u001b[0;32mIn[235], line 7\u001b[0m\n\u001b[1;32m      5\u001b[0m script_dir \u001b[38;5;241m=\u001b[39m os\u001b[38;5;241m.\u001b[39mpath\u001b[38;5;241m.\u001b[39mdirname(\u001b[38;5;124m'\u001b[39m\u001b[38;5;124m__file__\u001b[39m\u001b[38;5;124m'\u001b[39m)\n\u001b[1;32m      6\u001b[0m extension \u001b[38;5;241m=\u001b[39m \u001b[38;5;124m'\u001b[39m\u001b[38;5;124m.csv\u001b[39m\u001b[38;5;124m'\u001b[39m\n\u001b[0;32m----> 7\u001b[0m files \u001b[38;5;241m=\u001b[39m [file \u001b[38;5;28;01mfor\u001b[39;00m file \u001b[38;5;129;01min\u001b[39;00m os\u001b[38;5;241m.\u001b[39mlistdir(csv_dir) \u001b[38;5;28;01mif\u001b[39;00m file\u001b[38;5;241m.\u001b[39mendswith(\u001b[38;5;124m'\u001b[39m\u001b[38;5;124m.csv\u001b[39m\u001b[38;5;124m'\u001b[39m)]\n",
      "\u001b[0;31mFileNotFoundError\u001b[0m: [Errno 2] No such file or directory: 'CSV_files'"
     ]
    }
   ],
   "source": [
    "import pandas as pd\n",
    "import os\n",
    "import tkinter as tk\n",
    "import ipywidgets\n",
    "script_dir = os.path.dirname('__file__')\n",
    "extension = '.csv'\n",
    "files = [file for file in os.listdir(csv_dir) if file.endswith('.csv')]\n"
   ]
  }
 ],
 "metadata": {
  "kernelspec": {
   "display_name": "Python 3 (ipykernel)",
   "language": "python",
   "name": "python3"
  },
  "language_info": {
   "codemirror_mode": {
    "name": "ipython",
    "version": 3
   },
   "file_extension": ".py",
   "mimetype": "text/x-python",
   "name": "python",
   "nbconvert_exporter": "python",
   "pygments_lexer": "ipython3",
   "version": "3.12.4"
  }
 },
 "nbformat": 4,
 "nbformat_minor": 5
}
