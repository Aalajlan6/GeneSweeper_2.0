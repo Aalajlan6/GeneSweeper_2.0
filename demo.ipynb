{
 "cells": [
  {
   "cell_type": "code",
   "execution_count": 25,
   "id": "fedcec30-f998-4043-879d-82ff4e64c7c7",
   "metadata": {},
   "outputs": [],
   "source": [
    "import pandas as pd\n",
    "import os\n",
    "import tkinter as tk\n",
    "import ipywidgets\n",
    "path = r'C:\\Users\\abdul\\Documents\\GitHub\\GeneSweeper_2.0\\CSV_files'\n",
    "extension = '.csv'\n",
    "files = [file for file in os.listdir(path) if file.endswith(extension)]"
   ]
  },
  {
   "cell_type": "code",
   "execution_count": 26,
   "id": "d8183c13-86fc-423c-b289-67ccba74cf4b",
   "metadata": {},
   "outputs": [],
   "source": [
    "dfs = []\n",
    "for file in files:\n",
    "    df = pd.read_csv(os.path.join(path, file), delimiter='\\t')\n",
    "    dfs.append(df)\n",
    "df = pd.concat(dfs, ignore_index=True)"
   ]
  },
  {
   "cell_type": "code",
   "execution_count": 27,
   "id": "b23db70e-cd0c-42e3-8465-20c2d5b34504",
   "metadata": {},
   "outputs": [],
   "source": [
    "df = df.sort_values(by=['PRODUCT NAME'], ascending=True)\n",
    "products = df['PRODUCT NAME'].unique()"
   ]
  },
  {
   "cell_type": "code",
   "execution_count": 49,
   "id": "d6f841eb-d59b-4f41-970d-40d62faa858c",
   "metadata": {},
   "outputs": [
    {
     "name": "stdout",
     "output_type": "stream",
     "text": [
      "['E3 SUMO-protein ligase PIAS3', 'E3 ubiquitin-protein ligase HUWE1']\n"
     ]
    }
   ],
   "source": [
    "#Show suggestions\n",
    "def key_press(event):\n",
    "    input_text = entry.get()\n",
    "    listbox.delete(0, tk.END)\n",
    "    matching_products = [product for product in products if product.lower().startswith(input_text.lower())] # Change from starts with to include\n",
    "    for product in matching_products[:10]:\n",
    "        listbox.insert(tk.END, product)\n",
    "    if not matching_products:\n",
    "        listbox.insert(tk.END, \"No products found\")\n",
    "\n",
    "#Add products to selected box\n",
    "def on_list_select():\n",
    "    selection = listbox.curselection()\n",
    "    selected_items = []\n",
    "    for index in selection:\n",
    "        if listbox.get(index) != \"No products found\":\n",
    "            selected_items.append(listbox.get(index))\n",
    "    for item in selected_items:\n",
    "        search_list.insert(tk.END, item)\n",
    "    listbox.selection_clear(0, tk.END)\n",
    "\n",
    "def on_begin():\n",
    "    items_list = []\n",
    "    all_items = []\n",
    "    all_items = search_list.get(0, tk.END)\n",
    "    \n",
    "    for item in all_items:\n",
    "        items_list.append(item)\n",
    "    unique_items = set(items_list)\n",
    "    golden_products = list(unique_items)\n",
    "    if len(golden_products) > 0:\n",
    "        print(golden_products)\n",
    "    else:\n",
    "        print(\"No items are in cart!\")\n",
    "\n",
    "def on_clear():\n",
    "    search_list.delete('0','end')\n",
    "\n",
    "def program_start():\n",
    "    \n",
    "\n",
    "\n",
    "#Main loop\n",
    "root = tk.Tk()\n",
    "root.title(\"Product Search\")\n",
    "\n",
    "entry = tk.Entry(root, width=50)\n",
    "entry.place(x=200, y=200)\n",
    "entry.pack(padx=10, pady=10)\n",
    "input_text = entry.get()\n",
    "entry.bind('<KeyRelease>' ,key_press)\n",
    "\n",
    "frame = tk.Frame(root)\n",
    "frame.pack(padx = 10, pady= 10)\n",
    "\n",
    "products_label = tk.Label(frame, text=\"Choose Products for Search\")\n",
    "products_label.grid(row=0, column=0)\n",
    "\n",
    "selected_label = tk.Label(frame, text=\"Cart\")\n",
    "selected_label.grid(row=0, column=1)\n",
    "\n",
    "listbox = tk.Listbox(frame, width=50, height=10, selectmode='multiple')\n",
    "listbox.grid(row=1, column=0)\n",
    "\n",
    "search_list = tk.Listbox(frame, width=50, height=10)\n",
    "search_list.grid(row=1, column=1)\n",
    "\n",
    "bframe = tk.Frame(root)\n",
    "bframe.pack(padx = 10, pady= 10)\n",
    "           \n",
    "button = tk.Button(bframe, text='Add to cart', command=on_list_select).pack(padx=10, pady=10)\n",
    "button2 = tk.Button(bframe, text='Begin', command=on_begin).pack(padx=10, pady=10)\n",
    "button3 = tk.Button(bframe, text='Clear', command=on_clear).pack(padx=10, pady=10)\n",
    "\n",
    "root.mainloop()"
   ]
  }
 ],
 "metadata": {
  "kernelspec": {
   "display_name": "Python 3 (ipykernel)",
   "language": "python",
   "name": "python3"
  },
  "language_info": {
   "codemirror_mode": {
    "name": "ipython",
    "version": 3
   },
   "file_extension": ".py",
   "mimetype": "text/x-python",
   "name": "python",
   "nbconvert_exporter": "python",
   "pygments_lexer": "ipython3",
   "version": "3.11.7"
  }
 },
 "nbformat": 4,
 "nbformat_minor": 5
}
