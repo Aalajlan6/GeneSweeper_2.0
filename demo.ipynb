{
 "cells": [
  {
   "cell_type": "code",
   "execution_count": 3,
   "id": "fedcec30-f998-4043-879d-82ff4e64c7c7",
   "metadata": {},
   "outputs": [
    {
     "ename": "FileNotFoundError",
     "evalue": "[Errno 2] No such file or directory: 'C:\\\\Users\\\\abdul\\\\Documents\\\\GitHub\\\\GeneSweeper_2.0\\\\CSV_files'",
     "output_type": "error",
     "traceback": [
      "\u001b[0;31m---------------------------------------------------------------------------\u001b[0m",
      "\u001b[0;31mFileNotFoundError\u001b[0m                         Traceback (most recent call last)",
      "Cell \u001b[0;32mIn[3], line 7\u001b[0m\n\u001b[1;32m      5\u001b[0m path \u001b[38;5;241m=\u001b[39m \u001b[38;5;124mr\u001b[39m\u001b[38;5;124m'\u001b[39m\u001b[38;5;124mC:\u001b[39m\u001b[38;5;124m\\\u001b[39m\u001b[38;5;124mUsers\u001b[39m\u001b[38;5;124m\\\u001b[39m\u001b[38;5;124mabdul\u001b[39m\u001b[38;5;124m\\\u001b[39m\u001b[38;5;124mDocuments\u001b[39m\u001b[38;5;124m\\\u001b[39m\u001b[38;5;124mGitHub\u001b[39m\u001b[38;5;124m\\\u001b[39m\u001b[38;5;124mGeneSweeper_2.0\u001b[39m\u001b[38;5;124m\\\u001b[39m\u001b[38;5;124mCSV_files\u001b[39m\u001b[38;5;124m'\u001b[39m\n\u001b[1;32m      6\u001b[0m extension \u001b[38;5;241m=\u001b[39m \u001b[38;5;124m'\u001b[39m\u001b[38;5;124m.csv\u001b[39m\u001b[38;5;124m'\u001b[39m\n\u001b[0;32m----> 7\u001b[0m files \u001b[38;5;241m=\u001b[39m [file \u001b[38;5;28;01mfor\u001b[39;00m file \u001b[38;5;129;01min\u001b[39;00m os\u001b[38;5;241m.\u001b[39mlistdir(path) \u001b[38;5;28;01mif\u001b[39;00m file\u001b[38;5;241m.\u001b[39mendswith(extension)]\n",
      "\u001b[0;31mFileNotFoundError\u001b[0m: [Errno 2] No such file or directory: 'C:\\\\Users\\\\abdul\\\\Documents\\\\GitHub\\\\GeneSweeper_2.0\\\\CSV_files'"
     ]
    }
   ],
   "source": [
    "import pandas as pd\n",
    "import os\n",
    "import tkinter as tk\n",
    "import ipywidgets\n",
    "path = r'C:\\Users\\abdul\\Documents\\GitHub\\GeneSweeper_2.0\\CSV_files'\n",
    "extension = '.csv'\n",
    "files = [file for file in os.listdir(path) if file.endswith(extension)]"
   ]
  },
  {
   "cell_type": "code",
   "execution_count": 3,
   "id": "d8183c13-86fc-423c-b289-67ccba74cf4b",
   "metadata": {},
   "outputs": [],
   "source": [
    "dfs = []\n",
    "for file in files:\n",
    "    df = pd.read_csv(os.path.join(path, file), delimiter='\\t')\n",
    "    dfs.append(df)\n",
    "df = pd.concat(dfs, ignore_index=True)"
   ]
  },
  {
   "cell_type": "code",
   "execution_count": 4,
   "id": "b23db70e-cd0c-42e3-8465-20c2d5b34504",
   "metadata": {},
   "outputs": [],
   "source": [
    "df = df.sort_values(by=['PRODUCT NAME'], ascending=True)\n",
    "products = df['PRODUCT NAME'].unique()"
   ]
  },
  {
   "cell_type": "code",
   "execution_count": 1,
   "id": "d6f841eb-d59b-4f41-970d-40d62faa858c",
   "metadata": {},
   "outputs": [
    {
     "ename": "NameError",
     "evalue": "name 'tk' is not defined",
     "output_type": "error",
     "traceback": [
      "\u001b[0;31m---------------------------------------------------------------------------\u001b[0m",
      "\u001b[0;31mNameError\u001b[0m                                 Traceback (most recent call last)",
      "Cell \u001b[0;32mIn[1], line 42\u001b[0m\n\u001b[1;32m     37\u001b[0m     search_list\u001b[38;5;241m.\u001b[39mdelete(\u001b[38;5;124m'\u001b[39m\u001b[38;5;124m0\u001b[39m\u001b[38;5;124m'\u001b[39m,\u001b[38;5;124m'\u001b[39m\u001b[38;5;124mend\u001b[39m\u001b[38;5;124m'\u001b[39m)\n\u001b[1;32m     41\u001b[0m \u001b[38;5;66;03m#Main loop\u001b[39;00m\n\u001b[0;32m---> 42\u001b[0m root \u001b[38;5;241m=\u001b[39m tk\u001b[38;5;241m.\u001b[39mTk()\n\u001b[1;32m     43\u001b[0m root\u001b[38;5;241m.\u001b[39mtitle(\u001b[38;5;124m\"\u001b[39m\u001b[38;5;124mProduct Search\u001b[39m\u001b[38;5;124m\"\u001b[39m)\n\u001b[1;32m     45\u001b[0m entry \u001b[38;5;241m=\u001b[39m tk\u001b[38;5;241m.\u001b[39mEntry(root, width\u001b[38;5;241m=\u001b[39m\u001b[38;5;241m50\u001b[39m)\n",
      "\u001b[0;31mNameError\u001b[0m: name 'tk' is not defined"
     ]
    }
   ],
   "source": [
    "#Show suggestions\n",
    "def key_press(event):\n",
    "    input_text = entry.get()\n",
    "    listbox.delete(0, tk.END)\n",
    "    matching_products = [product for product in products if product.lower().startswith(input_text.lower())] # Change from starts with to include\n",
    "    for product in matching_products[:10]:\n",
    "        listbox.insert(tk.END, product)\n",
    "    if not matching_products:\n",
    "        listbox.insert(tk.END, \"No products found\")\n",
    "\n",
    "#Add products to selected box\n",
    "def on_list_select():\n",
    "    selection = listbox.curselection()\n",
    "    selected_items = []\n",
    "    for index in selection:\n",
    "        if listbox.get(index) != \"No products found\":\n",
    "            selected_items.append(listbox.get(index))\n",
    "    for item in selected_items:\n",
    "        search_list.insert(tk.END, item)\n",
    "    listbox.selection_clear(0, tk.END)\n",
    "\n",
    "def on_begin():\n",
    "    items_list = []\n",
    "    all_items = []\n",
    "    all_items = search_list.get(0, tk.END)\n",
    "    \n",
    "    for item in all_items:\n",
    "        items_list.append(item)\n",
    "    unique_items = set(items_list)\n",
    "    golden_products = list(unique_items)\n",
    "    if len(golden_products) > 0:\n",
    "        print(golden_products)\n",
    "    else:\n",
    "        print(\"No items are in cart!\")\n",
    "\n",
    "def on_clear():\n",
    "    search_list.delete('0','end')\n",
    "    \n",
    "\n",
    "\n",
    "#Main loop\n",
    "root = tk.Tk()\n",
    "root.title(\"Product Search\")\n",
    "\n",
    "entry = tk.Entry(root, width=50)\n",
    "entry.place(x=200, y=200)\n",
    "entry.pack(padx=10, pady=10)\n",
    "input_text = entry.get()\n",
    "entry.bind('<KeyRelease>' ,key_press)\n",
    "\n",
    "frame = tk.Frame(root)\n",
    "frame.pack(padx = 10, pady= 10)\n",
    "\n",
    "products_label = tk.Label(frame, text=\"Choose Products for Search\")\n",
    "products_label.grid(row=0, column=0)\n",
    "\n",
    "selected_label = tk.Label(frame, text=\"Cart\")\n",
    "selected_label.grid(row=0, column=1)\n",
    "\n",
    "listbox = tk.Listbox(frame, width=50, height=10, selectmode='multiple')\n",
    "listbox.grid(row=1, column=0)\n",
    "\n",
    "search_list = tk.Listbox(frame, width=50, height=10)\n",
    "search_list.grid(row=1, column=1)\n",
    "\n",
    "bframe = tk.Frame(root)\n",
    "bframe.pack(padx = 10, pady= 10)\n",
    "           \n",
    "button = tk.Button(bframe, text='Add to cart', command=on_list_select)\n",
    "button.grid(row=1, column=0, padx=10)\n",
    "button2 = tk.Button(bframe, text='Begin', command=on_begin)\n",
    "button2.grid(row=1, column=1, padx=10)\n",
    "button3 = tk.Button(bframe, text='Clear', command=on_clear)\n",
    "button3.grid(row=1, column=2, padx=10)\n",
    "\n",
    "root.mainloop()\n",
    "\n",
    "golden_products"
   ]
  }
 ],
 "metadata": {
  "kernelspec": {
   "display_name": "Python 3 (ipykernel)",
   "language": "python",
   "name": "python3"
  },
  "language_info": {
   "codemirror_mode": {
    "name": "ipython",
    "version": 3
   },
   "file_extension": ".py",
   "mimetype": "text/x-python",
   "name": "python",
   "nbconvert_exporter": "python",
   "pygments_lexer": "ipython3",
   "version": "3.12.4"
  }
 },
 "nbformat": 4,
 "nbformat_minor": 5
}
