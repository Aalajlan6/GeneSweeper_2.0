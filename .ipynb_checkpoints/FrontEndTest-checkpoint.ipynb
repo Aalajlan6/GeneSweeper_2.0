{
 "cells": [
  {
   "cell_type": "code",
   "execution_count": 133,
   "id": "2a3d8f94-5171-4c27-9b2a-7fae6b19df2d",
   "metadata": {},
   "outputs": [],
   "source": [
    "import pandas as pd\n",
    "import tkinter as tk\n",
    "import ipywidgets\n",
    "df = pd.read_csv(\"test_file.csv\", delimiter='\\t')\n",
    "df = df.sort_values(by=['PRODUCT NAME'], ascending=True)"
   ]
  },
  {
   "cell_type": "code",
   "execution_count": 134,
   "id": "f75bdb4b-acc6-4ec4-b3f3-05d63605ad24",
   "metadata": {},
   "outputs": [
    {
     "data": {
      "text/plain": [
       "array(['(acyl-carrier-protein) S-malonyltransferase',\n",
       "       '1,4-alpha-glucan branching enzyme',\n",
       "       '1-acyl-sn-glycerol-3-phosphate acyltransferase', ...,\n",
       "       'tRNA synthetases class II (A)',\n",
       "       'tRNA synthetases class II core domain (F)',\n",
       "       'tmRNA-binding protein'], dtype=object)"
      ]
     },
     "execution_count": 134,
     "metadata": {},
     "output_type": "execute_result"
    }
   ],
   "source": [
    "products = df['PRODUCT NAME'].unique()\n",
    "products"
   ]
  },
  {
   "cell_type": "code",
   "execution_count": 185,
   "id": "f26f265d-b28c-4f03-99c2-2f817e9bd804",
   "metadata": {},
   "outputs": [],
   "source": [
    "#Show suggestions\n",
    "def key_press(event):\n",
    "    input_text = entry.get()\n",
    "    listbox.delete(0, tk.END)\n",
    "    matching_products = [product for product in products if product.lower().startswith(input_text.lower())]\n",
    "    for product in matching_products[:10]:\n",
    "        listbox.insert(tk.END, product)\n",
    "    if not matching_products:\n",
    "        listbox.insert(tk.END, \"No products found\")\n",
    "\n",
    "#Add products to selected box\n",
    "def on_list_select():\n",
    "    selection = listbox.curselection()\n",
    "    # Loop over the selected indices and get the values of the selected items\n",
    "    for index in selection:\n",
    "        if listbox.get(selection[0]) != \"No products found\":\n",
    "            selected_products = listbox.get(index)\n",
    "            search_list.insert(0, selected_products)\n",
    "\n",
    "\n",
    "#Main loop\n",
    "root = tk.Tk()\n",
    "root.title(\"Product Search\")\n",
    "\n",
    "entry = tk.Entry(root, width=50)\n",
    "entry.place(x=200, y=200)\n",
    "entry.pack(padx=10, pady=10)\n",
    "input_text = entry.get()\n",
    "entry.bind('<KeyRelease>' ,key_press)\n",
    "\n",
    "frame = tk.Frame(root)\n",
    "frame.pack(padx = 10, pady= 10)\n",
    "\n",
    "products_label = tk.Label(frame, text=\"Choose Products for Search\")\n",
    "products_label.grid(row=0, column=0)\n",
    "\n",
    "selected_label = tk.Label(frame, text=\"Selected Products\")\n",
    "selected_label.grid(row=0, column=1)\n",
    "\n",
    "listbox = tk.Listbox(frame, width=50, height=10, selectmode=MULTIPLE)\n",
    "listbox.grid(row=1, column=0)\n",
    "\n",
    "search_list = tk.Listbox(frame, width=50, height=10)\n",
    "search_list.grid(row=1, column=1)\n",
    "\n",
    "button = tk.Button(root, text='Select', command=on_list_select).pack(padx=10, pady=10)\n",
    "\n",
    "root.mainloop()"
   ]
  }
 ],
 "metadata": {
  "kernelspec": {
   "display_name": "Python 3 (ipykernel)",
   "language": "python",
   "name": "python3"
  },
  "language_info": {
   "codemirror_mode": {
    "name": "ipython",
    "version": 3
   },
   "file_extension": ".py",
   "mimetype": "text/x-python",
   "name": "python",
   "nbconvert_exporter": "python",
   "pygments_lexer": "ipython3",
   "version": "3.11.7"
  }
 },
 "nbformat": 4,
 "nbformat_minor": 5
}
