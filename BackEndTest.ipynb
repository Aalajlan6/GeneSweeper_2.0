{
 "cells": [
  {
   "cell_type": "markdown",
   "metadata": {},
   "source": [
    "Libraries"
   ]
  },
  {
   "cell_type": "code",
   "execution_count": 137,
   "metadata": {},
   "outputs": [
    {
     "ename": "PermissionError",
     "evalue": "[Errno 1] Operation not permitted: 'test_file.csv'",
     "output_type": "error",
     "traceback": [
      "\u001b[0;31m---------------------------------------------------------------------------\u001b[0m",
      "\u001b[0;31mPermissionError\u001b[0m                           Traceback (most recent call last)",
      "Cell \u001b[0;32mIn[137], line 5\u001b[0m\n\u001b[1;32m      3\u001b[0m \u001b[38;5;28;01mimport\u001b[39;00m \u001b[38;5;21;01mos\u001b[39;00m\n\u001b[1;32m      4\u001b[0m \u001b[38;5;28;01mimport\u001b[39;00m \u001b[38;5;21;01mpandas\u001b[39;00m \u001b[38;5;28;01mas\u001b[39;00m \u001b[38;5;21;01mpd\u001b[39;00m\n\u001b[0;32m----> 5\u001b[0m df \u001b[38;5;241m=\u001b[39m pd\u001b[38;5;241m.\u001b[39mread_csv(\u001b[38;5;124m\"\u001b[39m\u001b[38;5;124mtest_file.csv\u001b[39m\u001b[38;5;124m\"\u001b[39m, delimiter\u001b[38;5;241m=\u001b[39m\u001b[38;5;124m'\u001b[39m\u001b[38;5;130;01m\\t\u001b[39;00m\u001b[38;5;124m'\u001b[39m)\n\u001b[1;32m      6\u001b[0m df \u001b[38;5;241m=\u001b[39m df\u001b[38;5;241m.\u001b[39msort_values(by\u001b[38;5;241m=\u001b[39m[\u001b[38;5;124m'\u001b[39m\u001b[38;5;124mPRODUCT NAME\u001b[39m\u001b[38;5;124m'\u001b[39m], ascending\u001b[38;5;241m=\u001b[39m\u001b[38;5;28;01mTrue\u001b[39;00m)\n\u001b[1;32m      7\u001b[0m df\n",
      "File \u001b[0;32m/opt/anaconda3/lib/python3.12/site-packages/pandas/io/parsers/readers.py:1026\u001b[0m, in \u001b[0;36mread_csv\u001b[0;34m(filepath_or_buffer, sep, delimiter, header, names, index_col, usecols, dtype, engine, converters, true_values, false_values, skipinitialspace, skiprows, skipfooter, nrows, na_values, keep_default_na, na_filter, verbose, skip_blank_lines, parse_dates, infer_datetime_format, keep_date_col, date_parser, date_format, dayfirst, cache_dates, iterator, chunksize, compression, thousands, decimal, lineterminator, quotechar, quoting, doublequote, escapechar, comment, encoding, encoding_errors, dialect, on_bad_lines, delim_whitespace, low_memory, memory_map, float_precision, storage_options, dtype_backend)\u001b[0m\n\u001b[1;32m   1013\u001b[0m kwds_defaults \u001b[38;5;241m=\u001b[39m _refine_defaults_read(\n\u001b[1;32m   1014\u001b[0m     dialect,\n\u001b[1;32m   1015\u001b[0m     delimiter,\n\u001b[0;32m   (...)\u001b[0m\n\u001b[1;32m   1022\u001b[0m     dtype_backend\u001b[38;5;241m=\u001b[39mdtype_backend,\n\u001b[1;32m   1023\u001b[0m )\n\u001b[1;32m   1024\u001b[0m kwds\u001b[38;5;241m.\u001b[39mupdate(kwds_defaults)\n\u001b[0;32m-> 1026\u001b[0m \u001b[38;5;28;01mreturn\u001b[39;00m _read(filepath_or_buffer, kwds)\n",
      "File \u001b[0;32m/opt/anaconda3/lib/python3.12/site-packages/pandas/io/parsers/readers.py:620\u001b[0m, in \u001b[0;36m_read\u001b[0;34m(filepath_or_buffer, kwds)\u001b[0m\n\u001b[1;32m    617\u001b[0m _validate_names(kwds\u001b[38;5;241m.\u001b[39mget(\u001b[38;5;124m\"\u001b[39m\u001b[38;5;124mnames\u001b[39m\u001b[38;5;124m\"\u001b[39m, \u001b[38;5;28;01mNone\u001b[39;00m))\n\u001b[1;32m    619\u001b[0m \u001b[38;5;66;03m# Create the parser.\u001b[39;00m\n\u001b[0;32m--> 620\u001b[0m parser \u001b[38;5;241m=\u001b[39m TextFileReader(filepath_or_buffer, \u001b[38;5;241m*\u001b[39m\u001b[38;5;241m*\u001b[39mkwds)\n\u001b[1;32m    622\u001b[0m \u001b[38;5;28;01mif\u001b[39;00m chunksize \u001b[38;5;129;01mor\u001b[39;00m iterator:\n\u001b[1;32m    623\u001b[0m     \u001b[38;5;28;01mreturn\u001b[39;00m parser\n",
      "File \u001b[0;32m/opt/anaconda3/lib/python3.12/site-packages/pandas/io/parsers/readers.py:1620\u001b[0m, in \u001b[0;36mTextFileReader.__init__\u001b[0;34m(self, f, engine, **kwds)\u001b[0m\n\u001b[1;32m   1617\u001b[0m     \u001b[38;5;28mself\u001b[39m\u001b[38;5;241m.\u001b[39moptions[\u001b[38;5;124m\"\u001b[39m\u001b[38;5;124mhas_index_names\u001b[39m\u001b[38;5;124m\"\u001b[39m] \u001b[38;5;241m=\u001b[39m kwds[\u001b[38;5;124m\"\u001b[39m\u001b[38;5;124mhas_index_names\u001b[39m\u001b[38;5;124m\"\u001b[39m]\n\u001b[1;32m   1619\u001b[0m \u001b[38;5;28mself\u001b[39m\u001b[38;5;241m.\u001b[39mhandles: IOHandles \u001b[38;5;241m|\u001b[39m \u001b[38;5;28;01mNone\u001b[39;00m \u001b[38;5;241m=\u001b[39m \u001b[38;5;28;01mNone\u001b[39;00m\n\u001b[0;32m-> 1620\u001b[0m \u001b[38;5;28mself\u001b[39m\u001b[38;5;241m.\u001b[39m_engine \u001b[38;5;241m=\u001b[39m \u001b[38;5;28mself\u001b[39m\u001b[38;5;241m.\u001b[39m_make_engine(f, \u001b[38;5;28mself\u001b[39m\u001b[38;5;241m.\u001b[39mengine)\n",
      "File \u001b[0;32m/opt/anaconda3/lib/python3.12/site-packages/pandas/io/parsers/readers.py:1880\u001b[0m, in \u001b[0;36mTextFileReader._make_engine\u001b[0;34m(self, f, engine)\u001b[0m\n\u001b[1;32m   1878\u001b[0m     \u001b[38;5;28;01mif\u001b[39;00m \u001b[38;5;124m\"\u001b[39m\u001b[38;5;124mb\u001b[39m\u001b[38;5;124m\"\u001b[39m \u001b[38;5;129;01mnot\u001b[39;00m \u001b[38;5;129;01min\u001b[39;00m mode:\n\u001b[1;32m   1879\u001b[0m         mode \u001b[38;5;241m+\u001b[39m\u001b[38;5;241m=\u001b[39m \u001b[38;5;124m\"\u001b[39m\u001b[38;5;124mb\u001b[39m\u001b[38;5;124m\"\u001b[39m\n\u001b[0;32m-> 1880\u001b[0m \u001b[38;5;28mself\u001b[39m\u001b[38;5;241m.\u001b[39mhandles \u001b[38;5;241m=\u001b[39m get_handle(\n\u001b[1;32m   1881\u001b[0m     f,\n\u001b[1;32m   1882\u001b[0m     mode,\n\u001b[1;32m   1883\u001b[0m     encoding\u001b[38;5;241m=\u001b[39m\u001b[38;5;28mself\u001b[39m\u001b[38;5;241m.\u001b[39moptions\u001b[38;5;241m.\u001b[39mget(\u001b[38;5;124m\"\u001b[39m\u001b[38;5;124mencoding\u001b[39m\u001b[38;5;124m\"\u001b[39m, \u001b[38;5;28;01mNone\u001b[39;00m),\n\u001b[1;32m   1884\u001b[0m     compression\u001b[38;5;241m=\u001b[39m\u001b[38;5;28mself\u001b[39m\u001b[38;5;241m.\u001b[39moptions\u001b[38;5;241m.\u001b[39mget(\u001b[38;5;124m\"\u001b[39m\u001b[38;5;124mcompression\u001b[39m\u001b[38;5;124m\"\u001b[39m, \u001b[38;5;28;01mNone\u001b[39;00m),\n\u001b[1;32m   1885\u001b[0m     memory_map\u001b[38;5;241m=\u001b[39m\u001b[38;5;28mself\u001b[39m\u001b[38;5;241m.\u001b[39moptions\u001b[38;5;241m.\u001b[39mget(\u001b[38;5;124m\"\u001b[39m\u001b[38;5;124mmemory_map\u001b[39m\u001b[38;5;124m\"\u001b[39m, \u001b[38;5;28;01mFalse\u001b[39;00m),\n\u001b[1;32m   1886\u001b[0m     is_text\u001b[38;5;241m=\u001b[39mis_text,\n\u001b[1;32m   1887\u001b[0m     errors\u001b[38;5;241m=\u001b[39m\u001b[38;5;28mself\u001b[39m\u001b[38;5;241m.\u001b[39moptions\u001b[38;5;241m.\u001b[39mget(\u001b[38;5;124m\"\u001b[39m\u001b[38;5;124mencoding_errors\u001b[39m\u001b[38;5;124m\"\u001b[39m, \u001b[38;5;124m\"\u001b[39m\u001b[38;5;124mstrict\u001b[39m\u001b[38;5;124m\"\u001b[39m),\n\u001b[1;32m   1888\u001b[0m     storage_options\u001b[38;5;241m=\u001b[39m\u001b[38;5;28mself\u001b[39m\u001b[38;5;241m.\u001b[39moptions\u001b[38;5;241m.\u001b[39mget(\u001b[38;5;124m\"\u001b[39m\u001b[38;5;124mstorage_options\u001b[39m\u001b[38;5;124m\"\u001b[39m, \u001b[38;5;28;01mNone\u001b[39;00m),\n\u001b[1;32m   1889\u001b[0m )\n\u001b[1;32m   1890\u001b[0m \u001b[38;5;28;01massert\u001b[39;00m \u001b[38;5;28mself\u001b[39m\u001b[38;5;241m.\u001b[39mhandles \u001b[38;5;129;01mis\u001b[39;00m \u001b[38;5;129;01mnot\u001b[39;00m \u001b[38;5;28;01mNone\u001b[39;00m\n\u001b[1;32m   1891\u001b[0m f \u001b[38;5;241m=\u001b[39m \u001b[38;5;28mself\u001b[39m\u001b[38;5;241m.\u001b[39mhandles\u001b[38;5;241m.\u001b[39mhandle\n",
      "File \u001b[0;32m/opt/anaconda3/lib/python3.12/site-packages/pandas/io/common.py:873\u001b[0m, in \u001b[0;36mget_handle\u001b[0;34m(path_or_buf, mode, encoding, compression, memory_map, is_text, errors, storage_options)\u001b[0m\n\u001b[1;32m    868\u001b[0m \u001b[38;5;28;01melif\u001b[39;00m \u001b[38;5;28misinstance\u001b[39m(handle, \u001b[38;5;28mstr\u001b[39m):\n\u001b[1;32m    869\u001b[0m     \u001b[38;5;66;03m# Check whether the filename is to be opened in binary mode.\u001b[39;00m\n\u001b[1;32m    870\u001b[0m     \u001b[38;5;66;03m# Binary mode does not support 'encoding' and 'newline'.\u001b[39;00m\n\u001b[1;32m    871\u001b[0m     \u001b[38;5;28;01mif\u001b[39;00m ioargs\u001b[38;5;241m.\u001b[39mencoding \u001b[38;5;129;01mand\u001b[39;00m \u001b[38;5;124m\"\u001b[39m\u001b[38;5;124mb\u001b[39m\u001b[38;5;124m\"\u001b[39m \u001b[38;5;129;01mnot\u001b[39;00m \u001b[38;5;129;01min\u001b[39;00m ioargs\u001b[38;5;241m.\u001b[39mmode:\n\u001b[1;32m    872\u001b[0m         \u001b[38;5;66;03m# Encoding\u001b[39;00m\n\u001b[0;32m--> 873\u001b[0m         handle \u001b[38;5;241m=\u001b[39m \u001b[38;5;28mopen\u001b[39m(\n\u001b[1;32m    874\u001b[0m             handle,\n\u001b[1;32m    875\u001b[0m             ioargs\u001b[38;5;241m.\u001b[39mmode,\n\u001b[1;32m    876\u001b[0m             encoding\u001b[38;5;241m=\u001b[39mioargs\u001b[38;5;241m.\u001b[39mencoding,\n\u001b[1;32m    877\u001b[0m             errors\u001b[38;5;241m=\u001b[39merrors,\n\u001b[1;32m    878\u001b[0m             newline\u001b[38;5;241m=\u001b[39m\u001b[38;5;124m\"\u001b[39m\u001b[38;5;124m\"\u001b[39m,\n\u001b[1;32m    879\u001b[0m         )\n\u001b[1;32m    880\u001b[0m     \u001b[38;5;28;01melse\u001b[39;00m:\n\u001b[1;32m    881\u001b[0m         \u001b[38;5;66;03m# Binary mode\u001b[39;00m\n\u001b[1;32m    882\u001b[0m         handle \u001b[38;5;241m=\u001b[39m \u001b[38;5;28mopen\u001b[39m(handle, ioargs\u001b[38;5;241m.\u001b[39mmode)\n",
      "\u001b[0;31mPermissionError\u001b[0m: [Errno 1] Operation not permitted: 'test_file.csv'"
     ]
    }
   ],
   "source": [
    "import tkinter as tk\n",
    "from tkinter import simpledialog, messagebox\n",
    "import os\n",
    "import pandas as pd\n",
    "df = pd.read_csv(\"test_file.csv\", delimiter='\\t')\n",
    "df = df.sort_values(by=['PRODUCT NAME'], ascending=True)\n",
    "df\n",
    "golden_products = ['Nitrous oxidase accessory protein', 'Electron transfer flavoprotein domain', 'Nitroreductase', 'Electron transfer flavoprotein, beta subunit', 'Nitrogen regulatory protein PII']\n",
    "df"
   ]
  },
  {
   "cell_type": "markdown",
   "metadata": {},
   "source": [
    "## Basic line for filtering a column by string"
   ]
  },
  {
   "cell_type": "code",
   "execution_count": 3,
   "metadata": {},
   "outputs": [
    {
     "data": {
      "text/html": [
       "<div>\n",
       "<style scoped>\n",
       "    .dataframe tbody tr th:only-of-type {\n",
       "        vertical-align: middle;\n",
       "    }\n",
       "\n",
       "    .dataframe tbody tr th {\n",
       "        vertical-align: top;\n",
       "    }\n",
       "\n",
       "    .dataframe thead th {\n",
       "        text-align: right;\n",
       "    }\n",
       "</style>\n",
       "<table border=\"1\" class=\"dataframe\">\n",
       "  <thead>\n",
       "    <tr style=\"text-align: right;\">\n",
       "      <th></th>\n",
       "      <th>GENE ID</th>\n",
       "      <th>LOCUS TAG</th>\n",
       "      <th>PRODUCT NAME</th>\n",
       "      <th>SCAFFOLD ID</th>\n",
       "      <th>GENE SEQ LENGTH</th>\n",
       "      <th>READS COUNT</th>\n",
       "      <th>COVERAGE</th>\n",
       "      <th>MEDIAN</th>\n",
       "      <th>READS COUNT ANTISENSE</th>\n",
       "      <th>COVERAGE ANTISENSE</th>\n",
       "      <th>MEDIAN ANTISENSE</th>\n",
       "    </tr>\n",
       "  </thead>\n",
       "  <tbody>\n",
       "    <tr>\n",
       "      <th>6367</th>\n",
       "      <td>3300002862 assembled Ga0004695J43176_1033111</td>\n",
       "      <td>Ga0004695J43176_1033111</td>\n",
       "      <td>hypothetical protein</td>\n",
       "      <td>Ga0004695J43176_1033111</td>\n",
       "      <td>123</td>\n",
       "      <td>3</td>\n",
       "      <td>3.188496e-08</td>\n",
       "      <td>3</td>\n",
       "      <td>8</td>\n",
       "      <td>8.502657e-08</td>\n",
       "      <td>8</td>\n",
       "    </tr>\n",
       "    <tr>\n",
       "      <th>9022</th>\n",
       "      <td>3300002862 assembled Ga0004695J43176_1005431</td>\n",
       "      <td>Ga0004695J43176_1005431</td>\n",
       "      <td>hypothetical protein</td>\n",
       "      <td>Ga0004695J43176_1005431</td>\n",
       "      <td>441</td>\n",
       "      <td>140</td>\n",
       "      <td>4.150106e-07</td>\n",
       "      <td>40</td>\n",
       "      <td>106</td>\n",
       "      <td>3.142223e-07</td>\n",
       "      <td>33</td>\n",
       "    </tr>\n",
       "    <tr>\n",
       "      <th>6386</th>\n",
       "      <td>3300002862 assembled Ga0004695J43176_1091361</td>\n",
       "      <td>Ga0004695J43176_1091361</td>\n",
       "      <td>hypothetical protein</td>\n",
       "      <td>Ga0004695J43176_1091361</td>\n",
       "      <td>269</td>\n",
       "      <td>9</td>\n",
       "      <td>4.373811e-08</td>\n",
       "      <td>3</td>\n",
       "      <td>4</td>\n",
       "      <td>1.943916e-08</td>\n",
       "      <td>2</td>\n",
       "    </tr>\n",
       "    <tr>\n",
       "      <th>6387</th>\n",
       "      <td>3300002862 assembled Ga0004695J43176_1022031</td>\n",
       "      <td>Ga0004695J43176_1022031</td>\n",
       "      <td>hypothetical protein</td>\n",
       "      <td>Ga0004695J43176_1022031</td>\n",
       "      <td>468</td>\n",
       "      <td>36</td>\n",
       "      <td>1.005603e-07</td>\n",
       "      <td>7</td>\n",
       "      <td>36</td>\n",
       "      <td>1.005603e-07</td>\n",
       "      <td>10</td>\n",
       "    </tr>\n",
       "    <tr>\n",
       "      <th>6407</th>\n",
       "      <td>3300002862 assembled Ga0004695J43176_1020451</td>\n",
       "      <td>Ga0004695J43176_1020451</td>\n",
       "      <td>hypothetical protein</td>\n",
       "      <td>Ga0004695J43176_1020451</td>\n",
       "      <td>309</td>\n",
       "      <td>20</td>\n",
       "      <td>8.461382e-08</td>\n",
       "      <td>8</td>\n",
       "      <td>21</td>\n",
       "      <td>8.884451e-08</td>\n",
       "      <td>9</td>\n",
       "    </tr>\n",
       "    <tr>\n",
       "      <th>...</th>\n",
       "      <td>...</td>\n",
       "      <td>...</td>\n",
       "      <td>...</td>\n",
       "      <td>...</td>\n",
       "      <td>...</td>\n",
       "      <td>...</td>\n",
       "      <td>...</td>\n",
       "      <td>...</td>\n",
       "      <td>...</td>\n",
       "      <td>...</td>\n",
       "      <td>...</td>\n",
       "    </tr>\n",
       "    <tr>\n",
       "      <th>3655</th>\n",
       "      <td>3300002862 assembled Ga0004695J43176_1068781</td>\n",
       "      <td>Ga0004695J43176_1068781</td>\n",
       "      <td>hypothetical protein</td>\n",
       "      <td>Ga0004695J43176_1068781</td>\n",
       "      <td>231</td>\n",
       "      <td>22</td>\n",
       "      <td>1.245032e-07</td>\n",
       "      <td>9</td>\n",
       "      <td>21</td>\n",
       "      <td>1.188440e-07</td>\n",
       "      <td>11</td>\n",
       "    </tr>\n",
       "    <tr>\n",
       "      <th>3654</th>\n",
       "      <td>3300002862 assembled Ga0004695J43176_1037011</td>\n",
       "      <td>Ga0004695J43176_1037011</td>\n",
       "      <td>hypothetical protein</td>\n",
       "      <td>Ga0004695J43176_1037011</td>\n",
       "      <td>174</td>\n",
       "      <td>5</td>\n",
       "      <td>3.756562e-08</td>\n",
       "      <td>5</td>\n",
       "      <td>9</td>\n",
       "      <td>6.761811e-08</td>\n",
       "      <td>5</td>\n",
       "    </tr>\n",
       "    <tr>\n",
       "      <th>3652</th>\n",
       "      <td>3300002862 assembled Ga0004695J43176_1011991</td>\n",
       "      <td>Ga0004695J43176_1011991</td>\n",
       "      <td>hypothetical protein</td>\n",
       "      <td>Ga0004695J43176_1011991</td>\n",
       "      <td>219</td>\n",
       "      <td>2</td>\n",
       "      <td>1.193866e-08</td>\n",
       "      <td>1</td>\n",
       "      <td>2</td>\n",
       "      <td>1.193866e-08</td>\n",
       "      <td>2</td>\n",
       "    </tr>\n",
       "    <tr>\n",
       "      <th>3668</th>\n",
       "      <td>3300002862 assembled Ga0004695J43176_1025871</td>\n",
       "      <td>Ga0004695J43176_1025871</td>\n",
       "      <td>hypothetical protein</td>\n",
       "      <td>Ga0004695J43176_1025871</td>\n",
       "      <td>627</td>\n",
       "      <td>37</td>\n",
       "      <td>7.714432e-08</td>\n",
       "      <td>8</td>\n",
       "      <td>44</td>\n",
       "      <td>9.173920e-08</td>\n",
       "      <td>8</td>\n",
       "    </tr>\n",
       "    <tr>\n",
       "      <th>3683</th>\n",
       "      <td>3300002862 assembled Ga0004695J43176_1063581</td>\n",
       "      <td>Ga0004695J43176_1063581</td>\n",
       "      <td>hypothetical protein</td>\n",
       "      <td>Ga0004695J43176_1063581</td>\n",
       "      <td>255</td>\n",
       "      <td>6</td>\n",
       "      <td>3.075961e-08</td>\n",
       "      <td>4</td>\n",
       "      <td>5</td>\n",
       "      <td>2.563301e-08</td>\n",
       "      <td>4</td>\n",
       "    </tr>\n",
       "  </tbody>\n",
       "</table>\n",
       "<p>6159 rows × 11 columns</p>\n",
       "</div>"
      ],
      "text/plain": [
       "                                           GENE ID                LOCUS TAG  \\\n",
       "6367  3300002862 assembled Ga0004695J43176_1033111  Ga0004695J43176_1033111   \n",
       "9022  3300002862 assembled Ga0004695J43176_1005431  Ga0004695J43176_1005431   \n",
       "6386  3300002862 assembled Ga0004695J43176_1091361  Ga0004695J43176_1091361   \n",
       "6387  3300002862 assembled Ga0004695J43176_1022031  Ga0004695J43176_1022031   \n",
       "6407  3300002862 assembled Ga0004695J43176_1020451  Ga0004695J43176_1020451   \n",
       "...                                            ...                      ...   \n",
       "3655  3300002862 assembled Ga0004695J43176_1068781  Ga0004695J43176_1068781   \n",
       "3654  3300002862 assembled Ga0004695J43176_1037011  Ga0004695J43176_1037011   \n",
       "3652  3300002862 assembled Ga0004695J43176_1011991  Ga0004695J43176_1011991   \n",
       "3668  3300002862 assembled Ga0004695J43176_1025871  Ga0004695J43176_1025871   \n",
       "3683  3300002862 assembled Ga0004695J43176_1063581  Ga0004695J43176_1063581   \n",
       "\n",
       "              PRODUCT NAME              SCAFFOLD ID  GENE SEQ LENGTH  \\\n",
       "6367  hypothetical protein  Ga0004695J43176_1033111              123   \n",
       "9022  hypothetical protein  Ga0004695J43176_1005431              441   \n",
       "6386  hypothetical protein  Ga0004695J43176_1091361              269   \n",
       "6387  hypothetical protein  Ga0004695J43176_1022031              468   \n",
       "6407  hypothetical protein  Ga0004695J43176_1020451              309   \n",
       "...                    ...                      ...              ...   \n",
       "3655  hypothetical protein  Ga0004695J43176_1068781              231   \n",
       "3654  hypothetical protein  Ga0004695J43176_1037011              174   \n",
       "3652  hypothetical protein  Ga0004695J43176_1011991              219   \n",
       "3668  hypothetical protein  Ga0004695J43176_1025871              627   \n",
       "3683  hypothetical protein  Ga0004695J43176_1063581              255   \n",
       "\n",
       "      READS COUNT      COVERAGE   MEDIAN  READS COUNT ANTISENSE  \\\n",
       "6367            3  3.188496e-08        3                      8   \n",
       "9022          140  4.150106e-07       40                    106   \n",
       "6386            9  4.373811e-08        3                      4   \n",
       "6387           36  1.005603e-07        7                     36   \n",
       "6407           20  8.461382e-08        8                     21   \n",
       "...           ...           ...      ...                    ...   \n",
       "3655           22  1.245032e-07        9                     21   \n",
       "3654            5  3.756562e-08        5                      9   \n",
       "3652            2  1.193866e-08        1                      2   \n",
       "3668           37  7.714432e-08        8                     44   \n",
       "3683            6  3.075961e-08        4                      5   \n",
       "\n",
       "      COVERAGE ANTISENSE  MEDIAN ANTISENSE  \n",
       "6367        8.502657e-08                 8  \n",
       "9022        3.142223e-07                33  \n",
       "6386        1.943916e-08                 2  \n",
       "6387        1.005603e-07                10  \n",
       "6407        8.884451e-08                 9  \n",
       "...                  ...               ...  \n",
       "3655        1.188440e-07                11  \n",
       "3654        6.761811e-08                 5  \n",
       "3652        1.193866e-08                 2  \n",
       "3668        9.173920e-08                 8  \n",
       "3683        2.563301e-08                 4  \n",
       "\n",
       "[6159 rows x 11 columns]"
      ]
     },
     "execution_count": 3,
     "metadata": {},
     "output_type": "execute_result"
    }
   ],
   "source": [
    "filtered_df = df[df[\"PRODUCT NAME\"].str.contains('hypothetical protein')]\n",
    "filtered_df"
   ]
  },
  {
   "cell_type": "code",
   "execution_count": 5,
   "metadata": {},
   "outputs": [],
   "source": [
    "for product in golden_products:\n",
    "    filtered_df = df[df[\"PRODUCT NAME\"].str.contains(product)]\n",
    "    filtered_df.to_csv(product + '.csv')"
   ]
  },
  {
   "cell_type": "markdown",
   "metadata": {},
   "source": [
    "File Enumeration and filtering:"
   ]
  },
  {
   "cell_type": "code",
   "execution_count": 7,
   "metadata": {},
   "outputs": [],
   "source": [
    "def filter_and_append_to_csv(input_file, output_file, product):\n",
    "    try:\n",
    "        df_input = pd.read_csv(input_file, on_bad_lines='skip')\n",
    "        \n",
    "        print(\"First few rows of the input DataFrame:\")\n",
    "        display(df_input.head())\n",
    "        \n",
    "        filtered_df = df_input[df_input.iloc[:, 0].str.contains(product, na=False)]\n",
    "        \n",
    "        print(f\"Number of rows in filtered DataFrame: {len(filtered_df)}\")\n",
    "        \n",
    "        # Write to output file, append if exists\n",
    "        if not os.path.exists(output_file):\n",
    "            filtered_df.to_csv(output_file, index=False)\n",
    "        else:\n",
    "            filtered_df.to_csv(output_file, mode='a', header=False, index=False)\n",
    "\n",
    "        return filtered_df\n",
    "\n",
    "    except Exception as e:\n",
    "        print(f\"Error processing {input_file}: {str(e)}\")\n",
    "        return None\n",
    "\n",
    "def enum():\n",
    "    folder_path = os.getcwd()\n",
    "    print(\"Enumerating files...\")\n",
    "    \n",
    "    csv_files = [file for file in os.listdir(folder_path) if file.startswith('rnaseq_data')]\n",
    "    \n",
    "    renamed_files = []\n",
    "    # Rename each file with a numbered format\n",
    "    for index, file in enumerate(csv_files, start=1):\n",
    "        old_path = os.path.join(folder_path, file)\n",
    "        new_name = f'{index}.csv'\n",
    "        new_path = os.path.join(folder_path, new_name)\n",
    "        os.rename(old_path, new_path)\n",
    "        renamed_files.append(new_name)\n",
    "    \n",
    "    print(\"Files have been successfully renamed.\")\n",
    "    return renamed_files\n"
   ]
  },
  {
   "cell_type": "markdown",
   "metadata": {},
   "source": [
    "testing enum:"
   ]
  },
  {
   "cell_type": "code",
   "execution_count": 11,
   "metadata": {},
   "outputs": [
    {
     "name": "stdout",
     "output_type": "stream",
     "text": [
      "Enumerating files...\n",
      "Files have been successfully renamed.\n",
      "Renamed files: []\n"
     ]
    }
   ],
   "source": [
    "renamed_files = enum()\n",
    "print(\"Renamed files:\", renamed_files)"
   ]
  },
  {
   "cell_type": "markdown",
   "metadata": {},
   "source": [
    "Testing filter_append_to_Csv:"
   ]
  },
  {
   "cell_type": "code",
   "execution_count": 14,
   "metadata": {},
   "outputs": [
    {
     "name": "stdout",
     "output_type": "stream",
     "text": [
      "No files were renamed.\n"
     ]
    }
   ],
   "source": [
    "if renamed_files:\n",
    "    test_input_file = renamed_files[0]  # Use the first renamed file\n",
    "    test_output_file = \"output_file.csv\"\n",
    "    test_product = \"methanol dehydrogenase (cytochrome c) subunit 1\"  # Change this to a product you want to filter by\n",
    "\n",
    "    filtered_df = filter_and_append_to_csv(test_input_file, test_output_file, test_product)\n",
    "\n",
    "    if filtered_df is not None and not filtered_df.empty:\n",
    "        display(filtered_df)\n",
    "    else:\n",
    "        print(\"No data to display.\")\n",
    "else:\n",
    "    print(\"No files were renamed.\")"
   ]
  },
  {
   "cell_type": "markdown",
   "metadata": {},
   "source": [
    "Linkgen function: "
   ]
  },
  {
   "cell_type": "code",
   "execution_count": 133,
   "metadata": {},
   "outputs": [],
   "source": [
    "def linkgen():\n",
    "    try:\n",
    "        df = pd.read_csv(\"test_file.csv\", delimiter = '\\t')\n",
    "        df = df.with_columns(pl.col(\"Gene seq length\").str.concat([\n",
    "            \"https://img.jgi.doe.gov/cgi-bin/mer/main.cgi?section=MetaGeneDetail&page=genePageMainFaa&taxon_oid=\", \n",
    "            df[\"Gene seq length\"], \n",
    "            \"&data_type=assembled&gene_oid=\", \n",
    "            df[\"Gene seq length\"].str.split(\",\").arr.first()\n",
    "        ], sep='').alias(\"Link\"))\n",
    "\n",
    "        df.select([\"Gene seq length\", \"Link\"]).write_csv(\"Link_Output.csv\")\n",
    "        print(\"Done generating links.\")\n",
    "    except Exception as e:\n",
    "        print(f\"Error generating links: {str(e)}\")"
   ]
  },
  {
   "cell_type": "code",
   "execution_count": 135,
   "metadata": {},
   "outputs": [
    {
     "name": "stdout",
     "output_type": "stream",
     "text": [
      "Error generating links: [Errno 1] Operation not permitted: 'test_file.csv'\n"
     ]
    }
   ],
   "source": [
    "linkgen()"
   ]
  }
 ],
 "metadata": {
  "kernelspec": {
   "display_name": "Python 3 (ipykernel)",
   "language": "python",
   "name": "python3"
  },
  "language_info": {
   "codemirror_mode": {
    "name": "ipython",
    "version": 3
   },
   "file_extension": ".py",
   "mimetype": "text/x-python",
   "name": "python",
   "nbconvert_exporter": "python",
   "pygments_lexer": "ipython3",
   "version": "3.12.4"
  }
 },
 "nbformat": 4,
 "nbformat_minor": 4
}
