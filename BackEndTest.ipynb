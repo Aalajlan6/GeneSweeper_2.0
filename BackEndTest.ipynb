{
 "cells": [
  {
   "cell_type": "markdown",
   "metadata": {},
   "source": [
    "Libraries"
   ]
  },
  {
   "cell_type": "code",
   "execution_count": 80,
   "metadata": {},
   "outputs": [],
   "source": [
    "import tkinter as tk\n",
    "from tkinter import simpledialog, messagebox\n",
    "import os\n",
    "import polars as pl"
   ]
  },
  {
   "cell_type": "markdown",
   "metadata": {},
   "source": [
    "File Enumeration and filtering:"
   ]
  },
  {
   "cell_type": "code",
   "execution_count": 81,
   "metadata": {},
   "outputs": [],
   "source": [
    "def filter_and_append_to_csv(input_file, output_file, product):\n",
    "    try:\n",
    "        df_input = pd.read_csv(input_file, on_bad_lines='skip')\n",
    "        \n",
    "        print(\"First few rows of the input DataFrame:\")\n",
    "        display(df_input.head())\n",
    "        \n",
    "        filtered_df = df_input[df_input.iloc[:, 0].str.contains(product, na=False)]\n",
    "        \n",
    "        print(f\"Number of rows in filtered DataFrame: {len(filtered_df)}\")\n",
    "        \n",
    "        # Write to output file, append if exists\n",
    "        if not os.path.exists(output_file):\n",
    "            filtered_df.to_csv(output_file, index=False)\n",
    "        else:\n",
    "            filtered_df.to_csv(output_file, mode='a', header=False, index=False)\n",
    "\n",
    "        return filtered_df\n",
    "\n",
    "    except Exception as e:\n",
    "        print(f\"Error processing {input_file}: {str(e)}\")\n",
    "        return None\n",
    "\n",
    "def enum():\n",
    "    folder_path = os.getcwd()\n",
    "    print(\"Enumerating files...\")\n",
    "    \n",
    "    csv_files = [file for file in os.listdir(folder_path) if file.startswith('rnaseq_data')]\n",
    "    \n",
    "    renamed_files = []\n",
    "    # Rename each file with a numbered format\n",
    "    for index, file in enumerate(csv_files, start=1):\n",
    "        old_path = os.path.join(folder_path, file)\n",
    "        new_name = f'{index}.csv'\n",
    "        new_path = os.path.join(folder_path, new_name)\n",
    "        os.rename(old_path, new_path)\n",
    "        renamed_files.append(new_name)\n",
    "    \n",
    "    print(\"Files have been successfully renamed.\")\n",
    "    return renamed_files\n"
   ]
  },
  {
   "cell_type": "markdown",
   "metadata": {},
   "source": [
    "testing enum:"
   ]
  },
  {
   "cell_type": "code",
   "execution_count": 82,
   "metadata": {},
   "outputs": [
    {
     "name": "stdout",
     "output_type": "stream",
     "text": [
      "Enumerating files...\n",
      "Files have been successfully renamed.\n",
      "Renamed files: []\n"
     ]
    }
   ],
   "source": [
    "renamed_files = enum()\n",
    "print(\"Renamed files:\", renamed_files)"
   ]
  },
  {
   "cell_type": "markdown",
   "metadata": {},
   "source": [
    "Testing filter_append_to_Csv:"
   ]
  },
  {
   "cell_type": "code",
   "execution_count": 83,
   "metadata": {},
   "outputs": [
    {
     "name": "stdout",
     "output_type": "stream",
     "text": [
      "No files were renamed.\n"
     ]
    }
   ],
   "source": [
    "if renamed_files:\n",
    "    test_input_file = renamed_files[0]  # Use the first renamed file\n",
    "    test_output_file = \"output_file.csv\"\n",
    "    test_product = \"methanol dehydrogenase (cytochrome c) subunit 1\"  # Change this to a product you want to filter by\n",
    "\n",
    "    filtered_df = filter_and_append_to_csv(test_input_file, test_output_file, test_product)\n",
    "\n",
    "    if filtered_df is not None and not filtered_df.empty:\n",
    "        display(filtered_df)\n",
    "    else:\n",
    "        print(\"No data to display.\")\n",
    "else:\n",
    "    print(\"No files were renamed.\")"
   ]
  },
  {
   "cell_type": "markdown",
   "metadata": {},
   "source": [
    "Linkgen function: "
   ]
  },
  {
   "cell_type": "code",
   "execution_count": 84,
   "metadata": {},
   "outputs": [],
   "source": [
    "def linkgen():\n",
    "    try:\n",
    "        filename = \"output_file.csv\"\n",
    "        df = pl.read_csv(filename)\n",
    "        df = df.with_columns(pl.col(\"Gene seq length\").str.concat([\n",
    "            \"https://img.jgi.doe.gov/cgi-bin/mer/main.cgi?section=MetaGeneDetail&page=genePageMainFaa&taxon_oid=\", \n",
    "            df[\"Gene seq length\"], \n",
    "            \"&data_type=assembled&gene_oid=\", \n",
    "            df[\"Gene seq length\"].str.split(\",\").arr.first()\n",
    "        ], sep='').alias(\"Link\"))\n",
    "\n",
    "        df.select([\"Gene seq length\", \"Link\"]).write_csv(\"Link_Output.csv\")\n",
    "        print(\"Done generating links.\")\n",
    "    except Exception as e:\n",
    "        print(f\"Error generating links: {str(e)}\")"
   ]
  },
  {
   "cell_type": "code",
   "execution_count": 85,
   "metadata": {},
   "outputs": [
    {
     "name": "stdout",
     "output_type": "stream",
     "text": [
      "Error generating links: Gene seq length\n"
     ]
    }
   ],
   "source": [
    "linkgen()"
   ]
  }
 ],
 "metadata": {
  "kernelspec": {
   "display_name": "Python (myenv)",
   "language": "python",
   "name": "myenv"
  },
  "language_info": {
   "codemirror_mode": {
    "name": "ipython",
    "version": 3
   },
   "file_extension": ".py",
   "mimetype": "text/x-python",
   "name": "python",
   "nbconvert_exporter": "python",
   "pygments_lexer": "ipython3",
   "version": "3.11.7"
  },
  "orig_nbformat": 4
 },
 "nbformat": 4,
 "nbformat_minor": 2
}
